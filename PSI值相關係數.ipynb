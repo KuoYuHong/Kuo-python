{
 "cells": [
  {
   "cell_type": "code",
   "execution_count": 1,
   "metadata": {},
   "outputs": [],
   "source": [
    "import numpy as np \n",
    "import pandas as pd\n",
    "import matplotlib.pyplot as plt"
   ]
  },
  {
   "cell_type": "code",
   "execution_count": 2,
   "metadata": {},
   "outputs": [
    {
     "data": {
      "text/html": [
       "<div>\n",
       "<style scoped>\n",
       "    .dataframe tbody tr th:only-of-type {\n",
       "        vertical-align: middle;\n",
       "    }\n",
       "\n",
       "    .dataframe tbody tr th {\n",
       "        vertical-align: top;\n",
       "    }\n",
       "\n",
       "    .dataframe thead th {\n",
       "        text-align: right;\n",
       "    }\n",
       "</style>\n",
       "<table border=\"1\" class=\"dataframe\">\n",
       "  <thead>\n",
       "    <tr style=\"text-align: right;\">\n",
       "      <th></th>\n",
       "      <th>PSI</th>\n",
       "      <th>CO</th>\n",
       "      <th>O3</th>\n",
       "      <th>SO2</th>\n",
       "      <th>PM</th>\n",
       "    </tr>\n",
       "  </thead>\n",
       "  <tbody>\n",
       "    <tr>\n",
       "      <th>PSI</th>\n",
       "      <td>1.000000</td>\n",
       "      <td>0.092825</td>\n",
       "      <td>0.904679</td>\n",
       "      <td>0.595382</td>\n",
       "      <td>0.958663</td>\n",
       "    </tr>\n",
       "    <tr>\n",
       "      <th>CO</th>\n",
       "      <td>0.092825</td>\n",
       "      <td>1.000000</td>\n",
       "      <td>0.192399</td>\n",
       "      <td>0.530274</td>\n",
       "      <td>0.081946</td>\n",
       "    </tr>\n",
       "    <tr>\n",
       "      <th>O3</th>\n",
       "      <td>0.904679</td>\n",
       "      <td>0.192399</td>\n",
       "      <td>1.000000</td>\n",
       "      <td>0.645183</td>\n",
       "      <td>0.813419</td>\n",
       "    </tr>\n",
       "    <tr>\n",
       "      <th>SO2</th>\n",
       "      <td>0.595382</td>\n",
       "      <td>0.530274</td>\n",
       "      <td>0.645183</td>\n",
       "      <td>1.000000</td>\n",
       "      <td>0.577716</td>\n",
       "    </tr>\n",
       "    <tr>\n",
       "      <th>PM</th>\n",
       "      <td>0.958663</td>\n",
       "      <td>0.081946</td>\n",
       "      <td>0.813419</td>\n",
       "      <td>0.577716</td>\n",
       "      <td>1.000000</td>\n",
       "    </tr>\n",
       "  </tbody>\n",
       "</table>\n",
       "</div>"
      ],
      "text/plain": [
       "          PSI        CO        O3       SO2        PM\n",
       "PSI  1.000000  0.092825  0.904679  0.595382  0.958663\n",
       "CO   0.092825  1.000000  0.192399  0.530274  0.081946\n",
       "O3   0.904679  0.192399  1.000000  0.645183  0.813419\n",
       "SO2  0.595382  0.530274  0.645183  1.000000  0.577716\n",
       "PM   0.958663  0.081946  0.813419  0.577716  1.000000"
      ]
     },
     "execution_count": 2,
     "metadata": {},
     "output_type": "execute_result"
    }
   ],
   "source": [
    "df = pd.DataFrame()\n",
    "df['PSI'] = [49,54,49,58,72,53,63,54,45,41,32,18,14,35,41]\n",
    "df['CO'] = [7,4,6,13,14,9,13,10,8,5,5,8,11,21,14]\n",
    "df['O3'] = [43,43,46,57,72,42,56,30,39,41,32,18,14,35,41]\n",
    "df['SO2'] = [2,0,1,4,9,6,3,2,1,0,0,1,1,3,2]\n",
    "df['PM'] = [49,54,49,58,66,53,63,54,45,25,22,17,14,28,34]\n",
    "df.corr() # pearson相關係數，以陣列呈現"
   ]
  },
  {
   "cell_type": "code",
   "execution_count": 124,
   "metadata": {},
   "outputs": [
    {
     "data": {
      "text/plain": [
       "[<matplotlib.lines.Line2D at 0x13c933ddf60>]"
      ]
     },
     "execution_count": 124,
     "metadata": {},
     "output_type": "execute_result"
    },
    {
     "data": {
      "image/png": "[encoded data removed]",
      "text/plain": [
       "<matplotlib.figure.Figure at 0x13c9334f9b0>"
      ]
     },
     "metadata": {},
     "output_type": "display_data"
    }
   ],
   "source": [
    "x=np.linspace(-1, 1, 5)\n",
    "y1=x*df.PSI.corr(df.CO) #PSI與CO的相關係數，以黑色標示\n",
    "y2=x*df.PSI.corr(df.O3) #PSI與O3的相關係數，以藍色標示\n",
    "y3=x*df.PSI.corr(df.SO2)#PSI與SO2的相關係數，以橘色標示\n",
    "y4=x*df.PSI.corr(df.PM) #PSI與PM的相關係數，以紅色標示\n",
    "plt.plot(x,y1,'black')\n",
    "plt.plot(x,y2,'blue')\n",
    "plt.plot(x,y3,'orange')\n",
    "plt.plot(x,y4,'red')"
   ]
  },
  {
   "cell_type": "code",
   "execution_count": null,
   "metadata": {},
   "outputs": [],
   "source": []
  }
 ],
 "metadata": {
  "kernelspec": {
   "display_name": "Python 3",
   "language": "python",
   "name": "python3"
  },
  "language_info": {
   "codemirror_mode": {
    "name": "ipython",
    "version": 3
   },
   "file_extension": ".py",
   "mimetype": "text/x-python",
   "name": "python",
   "nbconvert_exporter": "python",
   "pygments_lexer": "ipython3",
   "version": "3.6.5"
  }
 },
 "nbformat": 4,
 "nbformat_minor": 2
}
